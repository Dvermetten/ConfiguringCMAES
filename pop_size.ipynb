{
 "cells": [
  {
   "cell_type": "code",
   "execution_count": 1,
   "metadata": {
    "collapsed": true
   },
   "outputs": [],
   "source": [
    "%matplotlib inline\n",
    "# Imports\n",
    "import numpy as np\n",
    "import matplotlib.pyplot as plt\n",
    "import os\n",
    "from itertools import product\n",
    "from code.Utils import ESFitness\n",
    "\n",
    "# Default variable definitions\n",
    "pop_sizes = [6, 8, 12, 16, 24]\n",
    "dimensionalities = [10, 20]\n",
    "functions = [3, 9, 14, 17, 23]\n",
    "\n",
    "available_files = product(pop_sizes, dimensionalities, functions)\n",
    "# final_results_names = ['time_spent', 'generation_sizes', 'sigma', 'best_result', 'best_fitness']\n",
    "\n",
    "folder_name = 'C:\\\\src\\\\master-thesis\\\\experiments\\\\pop_size'\n",
    "data_file_name = 'raw_data\\\\{pop_size}\\\\GA_results_{ndim}dim_f{fid}.tdat'\n",
    "# stat_file_name = 'raw_data\\\\{pop_size}\\\\final_GA_results_{ndim}dim_f{fid}.tdat'\n",
    "plot_data_file_name = 'processed_data\\\\plot_data.npz'\n",
    "plot_file_prefix = 'plots\\\\'\n",
    "\n",
    "plot_file_extensions = ['.png', '.pdf']\n",
    "fig_size = (8,6)\n",
    "\n",
    "os.chdir(folder_name)"
   ]
  },
  {
   "cell_type": "code",
   "execution_count": 2,
   "metadata": {},
   "outputs": [],
   "source": [
    "fitnesses = {}\n",
    "FCEs = {}\n",
    "ERTs = {}\n",
    "\n",
    "# Obtain FCE/ERT data from data files through ESFitness objects\n",
    "for pop_size, ndim, fid in available_files:\n",
    "    with open(data_file_name.format(pop_size=pop_size, ndim=ndim, fid=fid), 'r') as f:\n",
    "        lines = [line for line in f]\n",
    "    objects = [eval(line.split('\\t')[-1]) for line in lines]\n",
    "    FCEs[(pop_size, ndim, fid)] = [obj.FCE for obj in objects]\n",
    "    ERTs[(pop_size, ndim, fid)] = [obj.ERT for obj in objects]\n",
    "    fitnesses[(pop_size, ndim, fid)] = [(obj.FCE, obj.ERT) for obj in objects]\n",
    "\n",
    "np.savez(plot_data_file_name, available_files=available_files, fitnesses=fitnesses, FCEs=FCEs, ERTs=ERTs)"
   ]
  },
  {
   "cell_type": "code",
   "execution_count": 3,
   "metadata": {},
   "outputs": [],
   "source": [
    "plot_data = np.load(plot_data_file_name)\n",
    "FCEs = plot_data['FCEs'].item()\n",
    "ERTs = plot_data['ERTs'].item()\n",
    "\n",
    "for problem in product(dimensionalities, functions):\n",
    "    ndim, fid = problem\n",
    "\n",
    "    plot_file_name = \"pop_size_plot_{}dim_f{}\".format(ndim, fid)\n",
    "    plt.figure(figsize=fig_size)\n",
    "    plt.title(\"Impact of $\\lambda$ in {}dim F{}\".format(ndim, fid))\n",
    "    plt.xlabel(\"Number of evaluations\")\n",
    "    \n",
    "    for pop_size in pop_sizes:\n",
    "        x = range(50)\n",
    "        orig_x = [i for i in x for _ in range(pop_size)]  # [0, ..., 0, 1, ..., 1, ..., 49, ..., 49]\n",
    "        \n",
    "        orig_data = FCEs[(pop_size, ndim, fid)]\n",
    "        temp_data = [np.min(orig_data[i*pop_size:(i+1)*pop_size]) for i in x]\n",
    "        data = [np.min(temp_data[:i+1]) for i in x]\n",
    "        plt.plot(x, data, '-', label='$\\lambda$ = {}'.format(pop_size))\n",
    "        plt.ylabel('FCE')\n",
    "        plt.yscale('log')\n",
    "        plt.legend(loc=0)\n",
    "\n",
    "    plt.tight_layout()\n",
    "    for extension in plot_file_extensions:\n",
    "        plt.savefig(plot_file_prefix + plot_file_name + extension)\n",
    "    plt.close()"
   ]
  },
  {
   "cell_type": "code",
   "execution_count": null,
   "metadata": {},
   "outputs": [],
   "source": [
    ""
   ]
  }
 ],
 "metadata": {
  "kernelspec": {
   "display_name": "Python 2",
   "language": "python",
   "name": "python2"
  },
  "language_info": {
   "codemirror_mode": {
    "name": "ipython",
    "version": 2.0
   },
   "file_extension": ".py",
   "mimetype": "text/x-python",
   "name": "python",
   "nbconvert_exporter": "python",
   "pygments_lexer": "ipython2",
   "version": "2.7.6"
  }
 },
 "nbformat": 4,
 "nbformat_minor": 0
}